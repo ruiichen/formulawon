{
 "cells": [
  {
   "cell_type": "code",
   "id": "d1982f5e-823b-45c8-9f64-7c5d46f15844",
   "metadata": {
    "editable": true,
    "slideshow": {
     "slide_type": ""
    },
    "tags": [],
    "ExecuteTime": {
     "end_time": "2024-09-18T02:28:36.177480Z",
     "start_time": "2024-09-18T02:28:35.723432Z"
    }
   },
   "source": [
    "import pandas as pd\n",
    "import requests\n",
    "from tqdm import tqdm\n",
    "from dateutil.relativedelta import *"
   ],
   "outputs": [],
   "execution_count": 1
  },
  {
   "cell_type": "code",
   "id": "ca79d3b4-a62c-4d89-a9fe-adfe8ba1eabb",
   "metadata": {
    "ExecuteTime": {
     "end_time": "2024-09-18T03:48:15.636150Z",
     "start_time": "2024-09-18T03:48:06.799479Z"
    }
   },
   "source": [
    "races = {'season': [],\n",
    "        'round': [],\n",
    "        'circuit_id': [],\n",
    "        'country': [],\n",
    "        'url': []}\n",
    "\n",
    "rounds_per_season = {}\n",
    "\n",
    "# gets races each season\n",
    "for year in tqdm(range(2003,2024)):\n",
    "    url = 'https://ergast.com/api/f1/{}.json'\n",
    "    resp = requests.get(url.format(year))\n",
    "    json = resp.json()\n",
    "    \n",
    "    for item in json['MRData']['RaceTable']['Races']:\n",
    "        races['season'].append(int(item['season']))\n",
    "        races['round'].append(int(item['round']))\n",
    "        races['circuit_id'].append(item['Circuit']['circuitId'])\n",
    "        races['country'].append(item['Circuit']['Location']['country'])\n",
    "        races['url'].append(item['url'])\n",
    "        if year not in rounds_per_season:\n",
    "            rounds_per_season[year] = []\n",
    "        rounds_per_season[year].append(int(item['round']))\n",
    "    \n",
    "    \n",
    "races = pd.DataFrame(races)\n",
    "races.to_csv('races.csv', index = False)"
   ],
   "outputs": [
    {
     "name": "stderr",
     "output_type": "stream",
     "text": [
      "100%|██████████| 21/21 [00:08<00:00,  2.38it/s]\n"
     ]
    }
   ],
   "execution_count": 13
  },
  {
   "cell_type": "code",
   "id": "c6dd8196-4567-430b-b846-3b95373c6373",
   "metadata": {
    "editable": true,
    "slideshow": {
     "slide_type": ""
    },
    "tags": [],
    "ExecuteTime": {
     "end_time": "2024-09-18T03:38:50.836985Z",
     "start_time": "2024-09-18T03:29:40.869923Z"
    }
   },
   "source": [
    "results = {'season': [],\n",
    "          'round':[],\n",
    "          'circuit_id':[],\n",
    "          'driver': [],\n",
    "          'age': [],\n",
    "          'nationality': [],\n",
    "          'constructor': [],\n",
    "          'grid': [],\n",
    "          'podium': [],\n",
    "          'url': []}\n",
    "\n",
    "for season in tqdm(range(2003, 2024)):\n",
    "    for round in rounds_per_season[season]:\n",
    "        url = 'http://ergast.com/api/f1/{}/{}/results.json'\n",
    "        resp = requests.get(url.format(season, round))\n",
    "        json = resp.json()\n",
    "        \n",
    "        for item in json['MRData']['RaceTable']['Races'][0]['Results']:\n",
    "            results['season'].append(int(json['MRData']['RaceTable']['Races'][0]['season']))\n",
    "            results['round'].append(int(json['MRData']['RaceTable']['Races'][0]['round']))\n",
    "            results['circuit_id'].append(json['MRData']['RaceTable']['Races'][0]['Circuit']['circuitId'])\n",
    "            results['driver'].append(item['Driver']['driverId'])\n",
    "            results['age'].append(relativedelta(pd.to_datetime(json['MRData']['RaceTable']['Races'][0]['date']), pd.to_datetime(item['Driver']['dateOfBirth'])).years)\n",
    "            results['nationality'].append(item['Driver']['nationality'])\n",
    "            results['constructor'].append(item['Constructor']['constructorId'])\n",
    "            results['grid'].append(int(item['grid']))\n",
    "            results['podium'].append(int(item['position']))\n",
    "            results['url'].append(json['MRData']['RaceTable']['Races'][0]['url'])\n",
    "\n",
    "results = pd.DataFrame(results)\n",
    "results.to_csv('results.csv', index = False)"
   ],
   "outputs": [
    {
     "name": "stderr",
     "output_type": "stream",
     "text": [
      "100%|██████████| 21/21 [09:09<00:00, 26.19s/it]\n"
     ]
    }
   ],
   "execution_count": 11
  },
  {
   "cell_type": "code",
   "id": "54a68763-fb63-4919-b72f-6f1f79032c82",
   "metadata": {
    "ExecuteTime": {
     "end_time": "2024-09-18T03:15:16.463430Z",
     "start_time": "2024-09-18T02:46:05.858198Z"
    }
   },
   "source": [
    "driver_standings = {'season': [],\n",
    "                    'round':[],\n",
    "                    'driver': [],\n",
    "                    'driver_points': [],\n",
    "                    'driver_wins': [],\n",
    "                    'driver_standings_pos': []}\n",
    "\n",
    "# get driver standings\n",
    "for season in tqdm(range(2003, 2024)):\n",
    "    for round in rounds_per_season[season]:    \n",
    "        url = 'https://ergast.com/api/f1/{}/{}/driverStandings.json'\n",
    "        resp = requests.get(url.format(season, round))\n",
    "        json = resp.json()\n",
    "\n",
    "        for item in json['MRData']['StandingsTable']['StandingsLists'][0]['DriverStandings']:\n",
    "            driver_standings['season'].append(int(json['MRData']['StandingsTable']['StandingsLists'][0]['season']))\n",
    "            driver_standings['round'].append(int(json['MRData']['StandingsTable']['StandingsLists'][0]['round']))\n",
    "            driver_standings['driver'].append(item['Driver']['driverId'])\n",
    "            try:\n",
    "                driver_standings['driver_points'].append(int(item['points']))\n",
    "            except:\n",
    "                driver_standings['driver_points'].append(0)\n",
    "            driver_standings['driver_wins'].append(int(item['wins']))\n",
    "            driver_standings['driver_standings_pos'].append(int(item['position']))\n",
    "            \n",
    "driver_standings = pd.DataFrame(driver_standings)\n",
    "driver_standings.to_csv('driver_standings.csv', index = False)"
   ],
   "outputs": [
    {
     "name": "stderr",
     "output_type": "stream",
     "text": [
      "100%|██████████| 21/21 [29:10<00:00, 83.36s/it]\n"
     ]
    }
   ],
   "execution_count": 8
  },
  {
   "cell_type": "code",
   "id": "8a367cd3-7362-4b9d-b0f0-363de7f7a9fe",
   "metadata": {
    "ExecuteTime": {
     "end_time": "2024-09-18T03:21:16.963209Z",
     "start_time": "2024-09-18T03:16:26.780807Z"
    }
   },
   "source": [
    "constructor_standings = {'season': [],\n",
    "                         'round':[],\n",
    "                         'constructor': [],\n",
    "                         'constructor_points': [],\n",
    "                         'constructor_wins': [],\n",
    "                         'constructor_standings_pos': []}\n",
    "\n",
    "for season in tqdm(range(2003, 2024)):\n",
    "    for round in rounds_per_season[season]:\n",
    "        url = 'https://ergast.com/api/f1/{}/{}/constructorStandings.json'\n",
    "        resp = requests.get(url.format(season, round))\n",
    "        json = resp.json()\n",
    "\n",
    "        for item in json['MRData']['StandingsTable']['StandingsLists'][0]['ConstructorStandings']:\n",
    "            constructor_standings['season'].append(int(json['MRData']['StandingsTable']['StandingsLists'][0]['season']))\n",
    "            constructor_standings['round'].append(int(json['MRData']['StandingsTable']['StandingsLists'][0]['round']))                     \n",
    "            constructor_standings['constructor'].append(item['Constructor']['constructorId'])\n",
    "            try:\n",
    "                constructor_standings['constructor_points'].append(int(item['points']))\n",
    "            except: \n",
    "                constructor_standings['constructor_points'].append(0)\n",
    "            constructor_standings['constructor_wins'].append(int(item['wins']))\n",
    "            constructor_standings['constructor_standings_pos'].append(int(item['position']))\n",
    "            \n",
    "constructor_standings = pd.DataFrame(constructor_standings)\n",
    "constructor_standings.to_csv('constructor_standings.csv', index = False)"
   ],
   "outputs": [
    {
     "name": "stderr",
     "output_type": "stream",
     "text": [
      "100%|██████████| 21/21 [04:50<00:00, 13.82s/it]\n"
     ]
    }
   ],
   "execution_count": 9
  },
  {
   "cell_type": "code",
   "id": "9286ce97-52e7-4c51-86ed-a003a190877a",
   "metadata": {
    "ExecuteTime": {
     "end_time": "2024-09-16T22:50:59.828007Z",
     "start_time": "2024-09-16T22:50:59.826322Z"
    }
   },
   "source": [],
   "outputs": [],
   "execution_count": null
  },
  {
   "cell_type": "code",
   "id": "7c3e431d-c58a-42e0-8799-8fe08a34862a",
   "metadata": {
    "editable": true,
    "slideshow": {
     "slide_type": ""
    },
    "tags": [],
    "ExecuteTime": {
     "end_time": "2024-09-18T03:26:54.314206Z",
     "start_time": "2024-09-18T03:22:23.984954Z"
    }
   },
   "source": [
    "qualifying_results = {'driver': [],\n",
    "                      'car': [],\n",
    "                      'qualifying_time': [],\n",
    "                      'season': [],\n",
    "                      'round': []}\n",
    "\n",
    "for season in tqdm(range(2003, 2024)):\n",
    "    for round in rounds_per_season[season]:\n",
    "        url = 'http://ergast.com/api/f1/{}/{}/qualifying.json'\n",
    "        resp = requests.get(url.format(season, round))\n",
    "        json = resp.json()\n",
    "        \n",
    "        for item in json['MRData']['RaceTable']['Races'][0]['QualifyingResults']:\n",
    "            qualifying_results['driver'].append(item['Driver']['driverId'])\n",
    "            qualifying_results['car'].append(item['Constructor']['name'])\n",
    "            try:\n",
    "                if 'Q3' in item and item['Q3']:\n",
    "                    qualifying_results['qualifying_time'].append(item['Q3'])\n",
    "                elif 'Q2' in item and item['Q2']:\n",
    "                    qualifying_results['qualifying_time'].append(item['Q2'])\n",
    "                elif 'Q1' in item and item['Q1']:\n",
    "                    qualifying_results['qualifying_time'].append(item['Q1'])\n",
    "                else:\n",
    "                    qualifying_results['qualifying_time'].append(\"00.000\")\n",
    "            except:\n",
    "                qualifying_results['qualifying_time'].append(\"00.000\")\n",
    "                qualifying_results['Q'].append(int(1))\n",
    "            qualifying_results['season'].append(int(json['MRData']['RaceTable']['Races'][0]['season']))\n",
    "            qualifying_results['round'].append(int(json['MRData']['RaceTable']['Races'][0]['round']))\n",
    "            \n",
    "qualifying_results = pd.DataFrame(qualifying_results)\n",
    "qualifying_results.to_csv('qualifying_results.csv', index = False)"
   ],
   "outputs": [
    {
     "name": "stderr",
     "output_type": "stream",
     "text": [
      "100%|██████████| 21/21 [04:30<00:00, 12.87s/it]\n"
     ]
    }
   ],
   "execution_count": 10
  }
 ],
 "metadata": {
  "kernelspec": {
   "display_name": "Python 3 (ipykernel)",
   "language": "python",
   "name": "python3"
  },
  "language_info": {
   "codemirror_mode": {
    "name": "ipython",
    "version": 3
   },
   "file_extension": ".py",
   "mimetype": "text/x-python",
   "name": "python",
   "nbconvert_exporter": "python",
   "pygments_lexer": "ipython3",
   "version": "3.11.1"
  }
 },
 "nbformat": 4,
 "nbformat_minor": 5
}
